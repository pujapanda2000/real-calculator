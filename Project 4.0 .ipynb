{
 "cells": [
  {
   "cell_type": "markdown",
   "id": "6340a4df",
   "metadata": {},
   "source": [
    "# Real calculator "
   ]
  },
  {
   "cell_type": "code",
   "execution_count": 3,
   "id": "5558d8bc",
   "metadata": {},
   "outputs": [
    {
     "name": "stdout",
     "output_type": "stream",
     "text": [
      "Enter your first number: 30\n",
      "Enter your second number: 40\n",
      "Enter operator: -\n",
      "Result : \n",
      "30.0 - 40.0 = -10.0\n"
     ]
    }
   ],
   "source": [
    "num1 = float(input(\"Enter your first number: \"))\n",
    "num2 = float(input(\"Enter your second number: \"))\n",
    "\n",
    "operator = input(\"Enter operator: \")\n",
    "\n",
    "def add(num1,num2):\n",
    "    addition = num1+num2\n",
    "    print(\"addition : \")\n",
    "    print(num1,operator,num2, \"=\",addition)\n",
    "def subtract(num1,num2):\n",
    "    subtraction = num1-num2\n",
    "    print(\"Result : \")\n",
    "    print(num1,operator,num2, \"=\",subtraction)\n",
    "def multiplication(num1,num2):\n",
    "    multiplication = num1*num2\n",
    "    print(\"Result : \")\n",
    "    print(num1,operator,num2, \"=\",multiplication)\n",
    "def division(num1,num2):\n",
    "    division = num1/num2\n",
    "    print(\"Result : \")\n",
    "    print(num1,operator,num2, \"=\",division)\n",
    "def modulus(num1,num2):\n",
    "    modulus = num1%num2\n",
    "    print(\"Result : \")\n",
    "    print(num1,operator,num2, \"=\",modulus)\n",
    "def Floordivision(num1,num2):\n",
    "    Floordivision = num1//num2\n",
    "    print(\"Result : \")\n",
    "    print(num1,operator,num2, \"=\",Floordivision)\n",
    "    \n",
    "if (operator == '+'):\n",
    "    add(num1,num2)\n",
    "elif(operator == '-'):\n",
    "    subtract(num1,num2)\n",
    "elif(operator == '*'):\n",
    "    multiply(num1,num2)\n",
    "elif(operator == '/'):\n",
    "    divide(num1,num2)\n",
    "elif(operator == '%'):\n",
    "    modulus(num1,num2)\n",
    "elif(operator == '//'):\n",
    "    Floordivision(num1,num2)\n",
    "    \n",
    "else:\n",
    "    print(\"Invalid Option\")"
   ]
  },
  {
   "cell_type": "code",
   "execution_count": null,
   "id": "750da5d6",
   "metadata": {},
   "outputs": [],
   "source": []
  }
 ],
 "metadata": {
  "kernelspec": {
   "display_name": "Python 3",
   "language": "python",
   "name": "python3"
  },
  "language_info": {
   "codemirror_mode": {
    "name": "ipython",
    "version": 3
   },
   "file_extension": ".py",
   "mimetype": "text/x-python",
   "name": "python",
   "nbconvert_exporter": "python",
   "pygments_lexer": "ipython3",
   "version": "3.8.8"
  }
 },
 "nbformat": 4,
 "nbformat_minor": 5
}
